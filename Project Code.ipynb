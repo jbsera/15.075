{
 "cells": [
  {
   "cell_type": "code",
   "execution_count": 1,
   "metadata": {},
   "outputs": [],
   "source": [
    "################################################################################\n",
    "# Reading in data\n",
    "################################################################################\n",
    "dataset = read.csv(\"C:\\\\Users\\\\joyse\\\\Downloads\\\\cleaned_dataset.csv\")"
   ]
  },
  {
   "cell_type": "code",
   "execution_count": 4,
   "metadata": {},
   "outputs": [
    {
     "data": {
      "text/plain": [
       "\n",
       "Call:\n",
       "lm(formula = Salary ~ Age + Years.of.Experience + Gender_binary + \n",
       "    Education.LevelHighSchool_combined + Education.LevelBachelors_combined + \n",
       "    Education.LevelMasters_combined + Education.LevelPhD_combined, \n",
       "    data = dataset)\n",
       "\n",
       "Residuals:\n",
       "    Min      1Q  Median      3Q     Max \n",
       "-137623  -19566   -4709   15335   89467 \n",
       "\n",
       "Coefficients: (1 not defined because of singularities)\n",
       "                                   Estimate Std. Error t value Pr(>|t|)    \n",
       "(Intercept)                        138479.1     3578.9  38.693   <2e-16 ***\n",
       "Age                                 -1992.2      131.4 -15.162   <2e-16 ***\n",
       "Years.of.Experience                  8010.2      166.3  48.169   <2e-16 ***\n",
       "Gender_binary                       -6159.0      706.1  -8.722   <2e-16 ***\n",
       "Education.LevelHighSchool_combined -60163.5     1748.9 -34.400   <2e-16 ***\n",
       "Education.LevelBachelors_combined  -24012.5     1106.2 -21.707   <2e-16 ***\n",
       "Education.LevelMasters_combined    -12029.6     1058.1 -11.370   <2e-16 ***\n",
       "Education.LevelPhD_combined              NA         NA      NA       NA    \n",
       "---\n",
       "Signif. codes:  0 '***' 0.001 '**' 0.01 '*' 0.05 '.' 0.1 ' ' 1\n",
       "\n",
       "Residual standard error: 28030 on 6689 degrees of freedom\n",
       "Multiple R-squared:  0.7177,\tAdjusted R-squared:  0.7175 \n",
       "F-statistic:  2834 on 6 and 6689 DF,  p-value: < 2.2e-16\n"
      ]
     },
     "metadata": {},
     "output_type": "display_data"
    }
   ],
   "source": [
    "summary(lm(Salary~Age+Years.of.Experience+Gender_binary+Education.LevelHighSchool_combined+Education.LevelBachelors_combined\n",
    "  +Education.LevelMasters_combined+Education.LevelPhD_combined, dataset\n",
    "  ))"
   ]
  },
  {
   "cell_type": "code",
   "execution_count": 13,
   "metadata": {},
   "outputs": [
    {
     "data": {
      "text/plain": [
       "\n",
       "Call:\n",
       "lm(formula = log(Salary) ~ log(Age) + log(Years.of.Experience + \n",
       "    1) + Gender_binary + Education.LevelHighSchool_combined + \n",
       "    Education.LevelBachelors_combined + Education.LevelMasters_combined + \n",
       "    Education.LevelPhD_combined, data = dataset)\n",
       "\n",
       "Residuals:\n",
       "     Min       1Q   Median       3Q      Max \n",
       "-0.84671 -0.16452 -0.01934  0.14652  0.89927 \n",
       "\n",
       "Coefficients: (1 not defined because of singularities)\n",
       "                                    Estimate Std. Error t value Pr(>|t|)    \n",
       "(Intercept)                        13.423561   0.106306 126.272   <2e-16 ***\n",
       "log(Age)                           -0.935246   0.035098 -26.647   <2e-16 ***\n",
       "log(Years.of.Experience + 1)        0.779647   0.010788  72.271   <2e-16 ***\n",
       "Gender_binary                      -0.057013   0.005998  -9.506   <2e-16 ***\n",
       "Education.LevelHighSchool_combined -0.519169   0.016317 -31.818   <2e-16 ***\n",
       "Education.LevelBachelors_combined  -0.167002   0.009354 -17.854   <2e-16 ***\n",
       "Education.LevelMasters_combined    -0.098587   0.008931 -11.039   <2e-16 ***\n",
       "Education.LevelPhD_combined               NA         NA      NA       NA    \n",
       "---\n",
       "Signif. codes:  0 '***' 0.001 '**' 0.01 '*' 0.05 '.' 0.1 ' ' 1\n",
       "\n",
       "Residual standard error: 0.2379 on 6689 degrees of freedom\n",
       "Multiple R-squared:  0.8122,\tAdjusted R-squared:  0.812 \n",
       "F-statistic:  4821 on 6 and 6689 DF,  p-value: < 2.2e-16\n"
      ]
     },
     "metadata": {},
     "output_type": "display_data"
    }
   ],
   "source": [
    "summary(lm(log(Salary)~log(Age)+log(Years.of.Experience+1)+Gender_binary+Education.LevelHighSchool_combined+Education.LevelBachelors_combined\n",
    "  +Education.LevelMasters_combined+Education.LevelPhD_combined, dataset\n",
    "  ))"
   ]
  },
  {
   "cell_type": "code",
   "execution_count": null,
   "metadata": {},
   "outputs": [],
   "source": []
  },
  {
   "cell_type": "code",
   "execution_count": null,
   "metadata": {},
   "outputs": [],
   "source": []
  },
  {
   "cell_type": "code",
   "execution_count": null,
   "metadata": {},
   "outputs": [],
   "source": []
  },
  {
   "cell_type": "code",
   "execution_count": null,
   "metadata": {},
   "outputs": [],
   "source": []
  },
  {
   "cell_type": "code",
   "execution_count": 31,
   "metadata": {},
   "outputs": [
    {
     "data": {
      "text/html": [
       "<table class=\"dataframe\">\n",
       "<caption>A data.frame: 6 × 10</caption>\n",
       "<thead>\n",
       "\t<tr><th></th><th scope=col>Age</th><th scope=col>Education.Level</th><th scope=col>Job.Title</th><th scope=col>Years.of.Experience</th><th scope=col>Salary</th><th scope=col>Gender_binary</th><th scope=col>Education.LevelHighSchool_combined</th><th scope=col>Education.LevelBachelors_combined</th><th scope=col>Education.LevelMasters_combined</th><th scope=col>Education.LevelPhD_combined</th></tr>\n",
       "\t<tr><th></th><th scope=col>&lt;int&gt;</th><th scope=col>&lt;chr&gt;</th><th scope=col>&lt;chr&gt;</th><th scope=col>&lt;dbl&gt;</th><th scope=col>&lt;dbl&gt;</th><th scope=col>&lt;int&gt;</th><th scope=col>&lt;int&gt;</th><th scope=col>&lt;int&gt;</th><th scope=col>&lt;int&gt;</th><th scope=col>&lt;int&gt;</th></tr>\n",
       "</thead>\n",
       "<tbody>\n",
       "\t<tr><th scope=row>1</th><td>32</td><td>Bachelor's</td><td>Software Engineer</td><td> 5</td><td> 90000</td><td>0</td><td>0</td><td>1</td><td>0</td><td>0</td></tr>\n",
       "\t<tr><th scope=row>2</th><td>28</td><td>Master's  </td><td>Data Analyst     </td><td> 3</td><td> 65000</td><td>1</td><td>0</td><td>0</td><td>1</td><td>0</td></tr>\n",
       "\t<tr><th scope=row>3</th><td>45</td><td>PhD       </td><td>Senior Manager   </td><td>15</td><td>150000</td><td>0</td><td>0</td><td>0</td><td>0</td><td>1</td></tr>\n",
       "\t<tr><th scope=row>4</th><td>36</td><td>Bachelor's</td><td>Sales Associate  </td><td> 7</td><td> 60000</td><td>1</td><td>0</td><td>1</td><td>0</td><td>0</td></tr>\n",
       "\t<tr><th scope=row>5</th><td>52</td><td>Master's  </td><td>Director         </td><td>20</td><td>200000</td><td>0</td><td>0</td><td>0</td><td>1</td><td>0</td></tr>\n",
       "\t<tr><th scope=row>6</th><td>29</td><td>Bachelor's</td><td>Marketing Analyst</td><td> 2</td><td> 55000</td><td>0</td><td>0</td><td>1</td><td>0</td><td>0</td></tr>\n",
       "</tbody>\n",
       "</table>\n"
      ],
      "text/latex": [
       "A data.frame: 6 × 10\n",
       "\\begin{tabular}{r|llllllllll}\n",
       "  & Age & Education.Level & Job.Title & Years.of.Experience & Salary & Gender\\_binary & Education.LevelHighSchool\\_combined & Education.LevelBachelors\\_combined & Education.LevelMasters\\_combined & Education.LevelPhD\\_combined\\\\\n",
       "  & <int> & <chr> & <chr> & <dbl> & <dbl> & <int> & <int> & <int> & <int> & <int>\\\\\n",
       "\\hline\n",
       "\t1 & 32 & Bachelor's & Software Engineer &  5 &  90000 & 0 & 0 & 1 & 0 & 0\\\\\n",
       "\t2 & 28 & Master's   & Data Analyst      &  3 &  65000 & 1 & 0 & 0 & 1 & 0\\\\\n",
       "\t3 & 45 & PhD        & Senior Manager    & 15 & 150000 & 0 & 0 & 0 & 0 & 1\\\\\n",
       "\t4 & 36 & Bachelor's & Sales Associate   &  7 &  60000 & 1 & 0 & 1 & 0 & 0\\\\\n",
       "\t5 & 52 & Master's   & Director          & 20 & 200000 & 0 & 0 & 0 & 1 & 0\\\\\n",
       "\t6 & 29 & Bachelor's & Marketing Analyst &  2 &  55000 & 0 & 0 & 1 & 0 & 0\\\\\n",
       "\\end{tabular}\n"
      ],
      "text/markdown": [
       "\n",
       "A data.frame: 6 × 10\n",
       "\n",
       "| <!--/--> | Age &lt;int&gt; | Education.Level &lt;chr&gt; | Job.Title &lt;chr&gt; | Years.of.Experience &lt;dbl&gt; | Salary &lt;dbl&gt; | Gender_binary &lt;int&gt; | Education.LevelHighSchool_combined &lt;int&gt; | Education.LevelBachelors_combined &lt;int&gt; | Education.LevelMasters_combined &lt;int&gt; | Education.LevelPhD_combined &lt;int&gt; |\n",
       "|---|---|---|---|---|---|---|---|---|---|---|\n",
       "| 1 | 32 | Bachelor's | Software Engineer |  5 |  90000 | 0 | 0 | 1 | 0 | 0 |\n",
       "| 2 | 28 | Master's   | Data Analyst      |  3 |  65000 | 1 | 0 | 0 | 1 | 0 |\n",
       "| 3 | 45 | PhD        | Senior Manager    | 15 | 150000 | 0 | 0 | 0 | 0 | 1 |\n",
       "| 4 | 36 | Bachelor's | Sales Associate   |  7 |  60000 | 1 | 0 | 1 | 0 | 0 |\n",
       "| 5 | 52 | Master's   | Director          | 20 | 200000 | 0 | 0 | 0 | 1 | 0 |\n",
       "| 6 | 29 | Bachelor's | Marketing Analyst |  2 |  55000 | 0 | 0 | 1 | 0 | 0 |\n",
       "\n"
      ],
      "text/plain": [
       "  Age Education.Level Job.Title         Years.of.Experience Salary\n",
       "1 32  Bachelor's      Software Engineer  5                   90000\n",
       "2 28  Master's        Data Analyst       3                   65000\n",
       "3 45  PhD             Senior Manager    15                  150000\n",
       "4 36  Bachelor's      Sales Associate    7                   60000\n",
       "5 52  Master's        Director          20                  200000\n",
       "6 29  Bachelor's      Marketing Analyst  2                   55000\n",
       "  Gender_binary Education.LevelHighSchool_combined\n",
       "1 0             0                                 \n",
       "2 1             0                                 \n",
       "3 0             0                                 \n",
       "4 1             0                                 \n",
       "5 0             0                                 \n",
       "6 0             0                                 \n",
       "  Education.LevelBachelors_combined Education.LevelMasters_combined\n",
       "1 1                                 0                              \n",
       "2 0                                 1                              \n",
       "3 0                                 0                              \n",
       "4 1                                 0                              \n",
       "5 0                                 1                              \n",
       "6 1                                 0                              \n",
       "  Education.LevelPhD_combined\n",
       "1 0                          \n",
       "2 0                          \n",
       "3 1                          \n",
       "4 0                          \n",
       "5 0                          \n",
       "6 0                          "
      ]
     },
     "metadata": {},
     "output_type": "display_data"
    }
   ],
   "source": [
    "head(dataset)"
   ]
  },
  {
   "cell_type": "code",
   "execution_count": 32,
   "metadata": {
    "scrolled": true
   },
   "outputs": [
    {
     "data": {
      "text/html": [
       "<style>\n",
       ".list-inline {list-style: none; margin:0; padding: 0}\n",
       ".list-inline>li {display: inline-block}\n",
       ".list-inline>li:not(:last-child)::after {content: \"\\00b7\"; padding: 0 .5ex}\n",
       "</style>\n",
       "<ol class=list-inline><li>'Age'</li><li>'Education.Level'</li><li>'Job.Title'</li><li>'Years.of.Experience'</li><li>'Salary'</li><li>'Gender_binary'</li><li>'Education.LevelHighSchool_combined'</li><li>'Education.LevelBachelors_combined'</li><li>'Education.LevelMasters_combined'</li><li>'Education.LevelPhD_combined'</li></ol>\n"
      ],
      "text/latex": [
       "\\begin{enumerate*}\n",
       "\\item 'Age'\n",
       "\\item 'Education.Level'\n",
       "\\item 'Job.Title'\n",
       "\\item 'Years.of.Experience'\n",
       "\\item 'Salary'\n",
       "\\item 'Gender\\_binary'\n",
       "\\item 'Education.LevelHighSchool\\_combined'\n",
       "\\item 'Education.LevelBachelors\\_combined'\n",
       "\\item 'Education.LevelMasters\\_combined'\n",
       "\\item 'Education.LevelPhD\\_combined'\n",
       "\\end{enumerate*}\n"
      ],
      "text/markdown": [
       "1. 'Age'\n",
       "2. 'Education.Level'\n",
       "3. 'Job.Title'\n",
       "4. 'Years.of.Experience'\n",
       "5. 'Salary'\n",
       "6. 'Gender_binary'\n",
       "7. 'Education.LevelHighSchool_combined'\n",
       "8. 'Education.LevelBachelors_combined'\n",
       "9. 'Education.LevelMasters_combined'\n",
       "10. 'Education.LevelPhD_combined'\n",
       "\n",
       "\n"
      ],
      "text/plain": [
       " [1] \"Age\"                                \"Education.Level\"                   \n",
       " [3] \"Job.Title\"                          \"Years.of.Experience\"               \n",
       " [5] \"Salary\"                             \"Gender_binary\"                     \n",
       " [7] \"Education.LevelHighSchool_combined\" \"Education.LevelBachelors_combined\" \n",
       " [9] \"Education.LevelMasters_combined\"    \"Education.LevelPhD_combined\"       "
      ]
     },
     "metadata": {},
     "output_type": "display_data"
    }
   ],
   "source": [
    "colnames(dataset)"
   ]
  },
  {
   "cell_type": "code",
   "execution_count": 33,
   "metadata": {},
   "outputs": [
    {
     "data": {
      "text/plain": [
       "      Age        Education.Level     Job.Title         Years.of.Experience\n",
       " Min.   :21.00   Length:6696        Length:6696        Min.   : 0.000     \n",
       " 1st Qu.:28.00   Class :character   Class :character   1st Qu.: 3.000     \n",
       " Median :32.00   Mode  :character   Mode  :character   Median : 7.000     \n",
       " Mean   :33.63                                         Mean   : 8.099     \n",
       " 3rd Qu.:38.00                                         3rd Qu.:12.000     \n",
       " Max.   :62.00                                         Max.   :34.000     \n",
       "     Salary       Gender_binary    Education.LevelHighSchool_combined\n",
       " Min.   : 25000   Min.   :0.0000   Min.   :0.00000                   \n",
       " 1st Qu.: 70000   1st Qu.:0.0000   1st Qu.:0.00000                   \n",
       " Median :115000   Median :0.0000   Median :0.00000                   \n",
       " Mean   :115395   Mean   :0.4497   Mean   :0.06691                   \n",
       " 3rd Qu.:160000   3rd Qu.:1.0000   3rd Qu.:0.00000                   \n",
       " Max.   :250000   Max.   :1.0000   Max.   :1.00000                   \n",
       " Education.LevelBachelors_combined Education.LevelMasters_combined\n",
       " Min.   :0.0000                    Min.   :0.0000                 \n",
       " 1st Qu.:0.0000                    1st Qu.:0.0000                 \n",
       " Median :0.0000                    Median :0.0000                 \n",
       " Mean   :0.4509                    Mean   :0.2779                 \n",
       " 3rd Qu.:1.0000                    3rd Qu.:1.0000                 \n",
       " Max.   :1.0000                    Max.   :1.0000                 \n",
       " Education.LevelPhD_combined\n",
       " Min.   :0.0000             \n",
       " 1st Qu.:0.0000             \n",
       " Median :0.0000             \n",
       " Mean   :0.2043             \n",
       " 3rd Qu.:0.0000             \n",
       " Max.   :1.0000             "
      ]
     },
     "metadata": {},
     "output_type": "display_data"
    }
   ],
   "source": [
    "################################################################################\n",
    "# Summarize Data\n",
    "################################################################################\n",
    "summary(dataset)\n",
    "# lol add plots later "
   ]
  },
  {
   "cell_type": "code",
   "execution_count": 34,
   "metadata": {},
   "outputs": [
    {
     "name": "stdout",
     "output_type": "stream",
     "text": [
      "             Variable   Min    Max Median       Mean        SD Count\n",
      "1                 Age    21     62     32     33.627     7.615  6696\n",
      "2 Years.of.Experience     0     34      7      8.099     6.059  6696\n",
      "3              Salary 25000 250000 115000 115395.422 52723.995  6696\n"
     ]
    }
   ],
   "source": [
    "options(scipen = 999)\n",
    "custom_summary <- function(data, variable_names) {\n",
    "  result <- data.frame(Variable = character(), \n",
    "                       Min = numeric(), \n",
    "                       Max = numeric(),\n",
    "                       Median = numeric(),\n",
    "                       Mean = numeric(), \n",
    "                       SD = numeric(), \n",
    "                       Count = numeric())\n",
    "  \n",
    "  for (variable in variable_names) {\n",
    "    count <- sum(!is.na(data[[variable]]))\n",
    "    mean_val <- mean(data[[variable]], na.rm = TRUE)\n",
    "    median_val <- median(data[[variable]], na.rm = TRUE)\n",
    "    sd_val <- sd(data[[variable]], na.rm = TRUE)\n",
    "    min_val <- min(data[[variable]], na.rm = TRUE)\n",
    "    max_val <- max(data[[variable]], na.rm = TRUE)\n",
    "    \n",
    "    summary_row <- data.frame(Variable = variable,\n",
    "                              Min = round(min_val,3),\n",
    "                              Max = round(max_val, 3),\n",
    "                              Median = round(median_val,3),\n",
    "                              Mean = round(mean_val,3),\n",
    "                              SD = round(sd_val,3),\n",
    "                              Count = count)\n",
    "    \n",
    "    result <- rbind(result, summary_row)\n",
    "  }\n",
    "  \n",
    "  return(result)\n",
    "}\n",
    "\n",
    "\n",
    "# Call the custom summary function\n",
    "summary_table <- custom_summary(dataset, c(\"Age\", \"Years.of.Experience\", \"Salary\"))\n",
    "print(summary_table)"
   ]
  },
  {
   "cell_type": "code",
   "execution_count": 63,
   "metadata": {},
   "outputs": [
    {
     "name": "stdout",
     "output_type": "stream",
     "text": [
      "Variable: Gender_binary \n",
      "  Category Count Frequency\n",
      "1        0  3685      0.55\n",
      "2        1  3011      0.45\n",
      "\n",
      "Variable: Education.LevelHighSchool_combined \n",
      "  Category Count Frequency\n",
      "1        0  6248     0.933\n",
      "2        1   448     0.067\n",
      "\n",
      "Variable: Education.LevelBachelors_combined \n",
      "  Category Count Frequency\n",
      "1        0  3677     0.549\n",
      "2        1  3019     0.451\n",
      "\n",
      "Variable: Education.LevelMasters_combined \n",
      "  Category Count Frequency\n",
      "1        0  4835     0.722\n",
      "2        1  1861     0.278\n",
      "\n",
      "Variable: Education.LevelPhD_combined \n",
      "  Category Count Frequency\n",
      "1        0  5328     0.796\n",
      "2        1  1368     0.204\n",
      "\n"
     ]
    }
   ],
   "source": [
    "### Summary Qualitative Variables\n",
    "variables <- c(\"Gender_binary\", \"Education.LevelHighSchool_combined\", \"Education.LevelBachelors_combined\", \n",
    "              \"Education.LevelMasters_combined\", \"Education.LevelPhD_combined\"\n",
    "              )\n",
    "\n",
    "# Loop through variables\n",
    "for (variable in variables) {\n",
    "  cat(\"Variable:\", variable, \"\\n\")\n",
    "  \n",
    "  # Get count and frequency of categories\n",
    "  counts <- table(dataset[[variable]])\n",
    "  frequency <- prop.table(counts)\n",
    "  \n",
    "  # Create dataframe with count and frequency\n",
    "  summary_df <- data.frame(Category = names(counts),\n",
    "                           Count = as.numeric(counts),\n",
    "                           Frequency = round(as.numeric(frequency),3))\n",
    "  \n",
    "  # Print summary dataframe\n",
    "  print(summary_df)\n",
    "  cat(\"\\n\")\n",
    "}"
   ]
  },
  {
   "cell_type": "code",
   "execution_count": 36,
   "metadata": {},
   "outputs": [
    {
     "data": {
      "image/png": "[encoded data removed]",
      "text/plain": [
       "Plot with title \"Distribution of Age\""
      ]
     },
     "metadata": {
      "image/png": {
       "height": 420,
       "width": 420
      }
     },
     "output_type": "display_data"
    }
   ],
   "source": [
    "############################################################\n",
    "# Histograms and QQPlots\n",
    "############################################################\n",
    "hist(dataset$Age, \n",
    "     breaks = seq(21, 70, by = 2), \n",
    "     xlim = c(21, 70),\n",
    "     ylim = c(0, 1000),\n",
    "     main = \"Distribution of Age\", \n",
    "     xlab = \"Age\", \n",
    "     ylab = \"Frequency\",\n",
    "     col = \"skyblue\",\n",
    "     border = \"white\")"
   ]
  },
  {
   "cell_type": "code",
   "execution_count": 37,
   "metadata": {},
   "outputs": [
    {
     "data": {
      "image/png": "[encoded data removed]",
      "text/plain": [
       "Plot with title \"QQ Plot of Age\""
      ]
     },
     "metadata": {
      "image/png": {
       "height": 420,
       "width": 420
      }
     },
     "output_type": "display_data"
    }
   ],
   "source": [
    "# Create QQ plot for the Age variable\n",
    "qqnorm(dataset$Age, \n",
    "       main = \"QQ Plot of Age\", \n",
    "       xlab = \"Theoretical Quantiles\", \n",
    "       ylab = \"Sample Quantiles\")\n",
    "\n",
    "# Add QQ line\n",
    "qqline(dataset$Age, col = \"red\")"
   ]
  },
  {
   "cell_type": "code",
   "execution_count": 38,
   "metadata": {},
   "outputs": [
    {
     "data": {
      "image/png": "[encoded data removed]",
      "text/plain": [
       "Plot with title \"Distribution of Log(Age)\""
      ]
     },
     "metadata": {
      "image/png": {
       "height": 420,
       "width": 420
      }
     },
     "output_type": "display_data"
    }
   ],
   "source": [
    "############################################################\n",
    "# Histograms and QQPlots\n",
    "############################################################\n",
    "hist(log(dataset$Age), \n",
    "     breaks = seq(3, 4.2, by = 0.05), \n",
    "     xlim = c(3, 4.2),\n",
    "     ylim = c(0, 1000),\n",
    "     main = \"Distribution of Log(Age)\", \n",
    "     xlab = \"Age\", \n",
    "     ylab = \"Frequency\",\n",
    "     col = \"skyblue\",\n",
    "     border = \"white\")"
   ]
  },
  {
   "cell_type": "code",
   "execution_count": 39,
   "metadata": {},
   "outputs": [
    {
     "data": {
      "image/png": "[encoded data removed]",
      "text/plain": [
       "Plot with title \"QQ Plot of Log(Age)\""
      ]
     },
     "metadata": {
      "image/png": {
       "height": 420,
       "width": 420
      }
     },
     "output_type": "display_data"
    }
   ],
   "source": [
    "# Create QQ plot for the Age variable\n",
    "qqnorm(log(dataset$Age), \n",
    "       main = \"QQ Plot of Log(Age)\", \n",
    "       xlab = \"Theoretical Quantiles\", \n",
    "       ylab = \"Sample Quantiles\")\n",
    "\n",
    "# Add QQ line\n",
    "qqline(log(dataset$Age), col = \"red\")"
   ]
  },
  {
   "cell_type": "code",
   "execution_count": 40,
   "metadata": {},
   "outputs": [
    {
     "data": {
      "image/png": "[encoded data removed]",
      "text/plain": [
       "Plot with title \"Distribution of Salary\""
      ]
     },
     "metadata": {
      "image/png": {
       "height": 420,
       "width": 420
      }
     },
     "output_type": "display_data"
    }
   ],
   "source": [
    "############################################################\n",
    "# Histograms and QQPlots\n",
    "############################################################\n",
    "hist(dataset$Salary, \n",
    "     breaks = seq(0, 250000, by = 10000), \n",
    "     xlim = c(0, 250000),\n",
    "     ylim = c(0, 600),\n",
    "     xaxp = c(0, 250000, 10),\n",
    "     main = \"Distribution of Salary\", \n",
    "     xlab = \"Salary\", \n",
    "     ylab = \"Frequency\",\n",
    "     col = \"skyblue\",\n",
    "     border = \"white\")\n"
   ]
  },
  {
   "cell_type": "code",
   "execution_count": 41,
   "metadata": {},
   "outputs": [
    {
     "data": {
      "image/png": "[encoded data removed]",
      "text/plain": [
       "Plot with title \"QQ Plot of Salary\""
      ]
     },
     "metadata": {
      "image/png": {
       "height": 420,
       "width": 420
      }
     },
     "output_type": "display_data"
    }
   ],
   "source": [
    "# Create QQ plot for the Age variable\n",
    "qqnorm(dataset$Salary, \n",
    "       main = \"QQ Plot of Salary\", \n",
    "       xlab = \"Theoretical Quantiles\", \n",
    "       ylab = \"Sample Quantiles\")\n",
    "\n",
    "# Add QQ line\n",
    "qqline(dataset$Salary, col = \"red\")"
   ]
  },
  {
   "cell_type": "code",
   "execution_count": 42,
   "metadata": {},
   "outputs": [
    {
     "data": {
      "image/png": "[encoded data removed]",
      "text/plain": [
       "Plot with title \"Distribution of Log(Salary)\""
      ]
     },
     "metadata": {
      "image/png": {
       "height": 420,
       "width": 420
      }
     },
     "output_type": "display_data"
    }
   ],
   "source": [
    "############################################################\n",
    "# Histograms and QQPlots\n",
    "############################################################\n",
    "hist(log(dataset$Salary),\n",
    "     breaks = seq(0, 13, by = 0.2), \n",
    "     xlim = c(10, 13),\n",
    "     ylim = c(0, 1500),\n",
    "     main = \"Distribution of Log(Salary)\", \n",
    "     xlab = \"Age\", \n",
    "     ylab = \"Frequency\",\n",
    "     col = \"skyblue\",\n",
    "     border = \"white\")"
   ]
  },
  {
   "cell_type": "code",
   "execution_count": 43,
   "metadata": {},
   "outputs": [
    {
     "data": {
      "image/png": "[encoded data removed]",
      "text/plain": [
       "Plot with title \"QQ Plot of Log(Salary)\""
      ]
     },
     "metadata": {
      "image/png": {
       "height": 420,
       "width": 420
      }
     },
     "output_type": "display_data"
    }
   ],
   "source": [
    "# Create QQ plot for the Age variable\n",
    "qqnorm(log(dataset$Salary), \n",
    "       main = \"QQ Plot of Log(Salary)\", \n",
    "       xlab = \"Theoretical Quantiles\", \n",
    "       ylab = \"Sample Quantiles\")\n",
    "\n",
    "# Add QQ line\n",
    "qqline(log(dataset$Salary), col = \"red\")"
   ]
  },
  {
   "cell_type": "code",
   "execution_count": 44,
   "metadata": {},
   "outputs": [
    {
     "data": {
      "image/png": "[encoded data removed]",
      "text/plain": [
       "Plot with title \"Distribution of Years of Experience\""
      ]
     },
     "metadata": {
      "image/png": {
       "height": 420,
       "width": 420
      }
     },
     "output_type": "display_data"
    }
   ],
   "source": [
    "############################################################\n",
    "# Histograms and QQPlots\n",
    "############################################################\n",
    "hist(dataset$Years.of.Experience,\n",
    "     breaks = seq(0, 35, by = 2), \n",
    "     xlim = c(0, 35),\n",
    "     ylim = c(0, 1400),\n",
    "     main = \"Distribution of Years of Experience\", \n",
    "     xlab = \"Years of Experience\", \n",
    "     ylab = \"Frequency\",\n",
    "     col = \"skyblue\",\n",
    "     border = \"white\")\n"
   ]
  },
  {
   "cell_type": "code",
   "execution_count": 45,
   "metadata": {},
   "outputs": [
    {
     "data": {
      "image/png": "[encoded data removed]",
      "text/plain": [
       "Plot with title \"QQ Plot of Years of Experience\""
      ]
     },
     "metadata": {
      "image/png": {
       "height": 420,
       "width": 420
      }
     },
     "output_type": "display_data"
    }
   ],
   "source": [
    "# Create QQ plot for the Age variable\n",
    "qqnorm(dataset$Years.of.Experience, \n",
    "       main = \"QQ Plot of Years of Experience\", \n",
    "       xlab = \"Theoretical Quantiles\", \n",
    "       ylab = \"Sample Quantiles\")\n",
    "\n",
    "# Add QQ line\n",
    "qqline(dataset$Years.of.Experience, col = \"red\")"
   ]
  },
  {
   "cell_type": "code",
   "execution_count": 46,
   "metadata": {},
   "outputs": [
    {
     "data": {
      "image/png": "[encoded data removed]",
      "text/plain": [
       "Plot with title \"Distribution of Log(Years of Experience)\""
      ]
     },
     "metadata": {
      "image/png": {
       "height": 420,
       "width": 420
      }
     },
     "output_type": "display_data"
    }
   ],
   "source": [
    "############################################################\n",
    "# Histograms and QQPlots\n",
    "############################################################\n",
    "hist(log(dataset$Years.of.Experience),\n",
    "     breaks = seq(-1, 4, by = 0.3), \n",
    "     xlim = c(-1, 4),\n",
    "     ylim = c(0, 1400),\n",
    "     main = \"Distribution of Log(Years of Experience)\", \n",
    "     xlab = \"Years of Experience\", \n",
    "     ylab = \"Frequency\",\n",
    "     col = \"skyblue\",\n",
    "     border = \"white\")\n"
   ]
  },
  {
   "cell_type": "code",
   "execution_count": 47,
   "metadata": {},
   "outputs": [
    {
     "data": {
      "image/png": "[encoded data removed]",
      "text/plain": [
       "Plot with title \"QQ Plot of Log(Years of Experience)\""
      ]
     },
     "metadata": {
      "image/png": {
       "height": 420,
       "width": 420
      }
     },
     "output_type": "display_data"
    }
   ],
   "source": [
    "# Create QQ plot for the Age variable\n",
    "qqnorm(log(dataset$Years.of.Experience), \n",
    "       main = \"QQ Plot of Log(Years of Experience)\", \n",
    "       xlab = \"Theoretical Quantiles\", \n",
    "       ylim = c(-2,4),\n",
    "       ylab = \"Sample Quantiles\")\n",
    "\n",
    "# Add QQ line\n",
    "qqline(log(dataset$Years.of.Experience), col = \"red\")"
   ]
  },
  {
   "cell_type": "code",
   "execution_count": 48,
   "metadata": {},
   "outputs": [
    {
     "name": "stderr",
     "output_type": "stream",
     "text": [
      "Warning message:\n",
      "\"package 'wordcloud' is in use and will not be installed\"\n",
      "Warning message:\n",
      "\"packages 'tm', 'wordcloud' are in use and will not be installed\"\n",
      "Warning message in tm_map.SimpleCorpus(corpus, tm::removePunctuation):\n",
      "\"transformation drops documents\"\n",
      "Warning message in tm_map.SimpleCorpus(corpus, function(x) tm::removeWords(x, tm::stopwords())):\n",
      "\"transformation drops documents\"\n"
     ]
    },
    {
     "data": {
      "image/png": "[encoded data removed]",
      "text/plain": [
       "plot without title"
      ]
     },
     "metadata": {
      "image/png": {
       "height": 420,
       "width": 420
      }
     },
     "output_type": "display_data"
    }
   ],
   "source": [
    "# Load the wordcloud package\n",
    "install.packages(\"wordcloud\")\n",
    "install.packages(c(\"tm\", \"wordcloud\"))\n",
    "library(tm)\n",
    "library(wordcloud)\n",
    "\n",
    "# Generate word cloud for Job.Title\n",
    "wordcloud(dataset$Job.Title, scale=c(5,0.5), min.freq = 5, random.order = FALSE, \n",
    "          colors=brewer.pal(8, \"Dark2\"))"
   ]
  },
  {
   "cell_type": "code",
   "execution_count": 49,
   "metadata": {},
   "outputs": [],
   "source": [
    "subset_data_f <- subset(dataset, Gender_binary == 1)\n",
    "subset_data_m <- subset(dataset, Gender_binary == 0)"
   ]
  },
  {
   "cell_type": "code",
   "execution_count": 50,
   "metadata": {},
   "outputs": [
    {
     "data": {
      "image/png": "[encoded data removed]",
      "text/plain": [
       "Plot with title \"Salary for Men\""
      ]
     },
     "metadata": {
      "image/png": {
       "height": 420,
       "width": 420
      }
     },
     "output_type": "display_data"
    }
   ],
   "source": [
    "# Calculate the overall range of salary to set the same ylim for both plots\n",
    "salary_range <- range(c(subset_data_f$Salary, subset_data_m$Salary))\n",
    "\n",
    "# Set up the graphics device to display multiple plots side by side\n",
    "par(mfrow = c(1, 2))\n",
    "\n",
    "# Create side-by-side boxplots for salary by gender\n",
    "boxplot(subset_data_f$Salary, main = \"Salary for Women\", ylim = salary_range)\n",
    "boxplot(subset_data_m$Salary, main = \"Salary for Men\", ylim = salary_range)"
   ]
  },
  {
   "cell_type": "code",
   "execution_count": 64,
   "metadata": {},
   "outputs": [
    {
     "data": {
      "text/html": [
       "105000"
      ],
      "text/latex": [
       "105000"
      ],
      "text/markdown": [
       "105000"
      ],
      "text/plain": [
       "[1] 105000"
      ]
     },
     "metadata": {},
     "output_type": "display_data"
    }
   ],
   "source": [
    "median(subset_data_f$Salary)"
   ]
  },
  {
   "cell_type": "code",
   "execution_count": 65,
   "metadata": {},
   "outputs": [
    {
     "data": {
      "text/html": [
       "120000"
      ],
      "text/latex": [
       "120000"
      ],
      "text/markdown": [
       "120000"
      ],
      "text/plain": [
       "[1] 120000"
      ]
     },
     "metadata": {},
     "output_type": "display_data"
    }
   ],
   "source": [
    "median(subset_data_m$Salary)"
   ]
  },
  {
   "cell_type": "code",
   "execution_count": 68,
   "metadata": {},
   "outputs": [],
   "source": [
    "subset_data_1 <- subset(dataset, Education.LevelHighSchool_combined == 1)\n",
    "subset_data_2 <- subset(dataset, Education.LevelBachelors_combined == 1)\n",
    "subset_data_3 <- subset(dataset, Education.LevelMasters_combined == 1)\n",
    "subset_data_4 <- subset(dataset, Education.LevelPhD_combined == 1)"
   ]
  },
  {
   "cell_type": "code",
   "execution_count": 69,
   "metadata": {},
   "outputs": [
    {
     "data": {
      "text/html": [
       "30000"
      ],
      "text/latex": [
       "30000"
      ],
      "text/markdown": [
       "30000"
      ],
      "text/plain": [
       "[1] 30000"
      ]
     },
     "metadata": {},
     "output_type": "display_data"
    }
   ],
   "source": [
    "median(subset_data_1$Salary)"
   ]
  },
  {
   "cell_type": "code",
   "execution_count": 70,
   "metadata": {},
   "outputs": [
    {
     "data": {
      "text/html": [
       "80000"
      ],
      "text/latex": [
       "80000"
      ],
      "text/markdown": [
       "80000"
      ],
      "text/plain": [
       "[1] 80000"
      ]
     },
     "metadata": {},
     "output_type": "display_data"
    }
   ],
   "source": [
    "median(subset_data_2$Salary)"
   ]
  },
  {
   "cell_type": "code",
   "execution_count": 71,
   "metadata": {},
   "outputs": [
    {
     "data": {
      "text/html": [
       "130000"
      ],
      "text/latex": [
       "130000"
      ],
      "text/markdown": [
       "130000"
      ],
      "text/plain": [
       "[1] 130000"
      ]
     },
     "metadata": {},
     "output_type": "display_data"
    }
   ],
   "source": [
    "median(subset_data_3$Salary)"
   ]
  },
  {
   "cell_type": "code",
   "execution_count": 72,
   "metadata": {},
   "outputs": [
    {
     "data": {
      "text/html": [
       "170000"
      ],
      "text/latex": [
       "170000"
      ],
      "text/markdown": [
       "170000"
      ],
      "text/plain": [
       "[1] 170000"
      ]
     },
     "metadata": {},
     "output_type": "display_data"
    }
   ],
   "source": [
    "median(subset_data_4$Salary)"
   ]
  },
  {
   "cell_type": "code",
   "execution_count": 52,
   "metadata": {},
   "outputs": [
    {
     "data": {
      "image/png": "[encoded data removed]",
      "text/plain": [
       "Plot with title \"Salary for PhD\""
      ]
     },
     "metadata": {
      "image/png": {
       "height": 420,
       "width": 420
      }
     },
     "output_type": "display_data"
    }
   ],
   "source": [
    "# Calculate the overall range of salary to set the same ylim for both plots\n",
    "salary_range <- range(c(subset_data_1$Salary, subset_data_2$Salary, subset_data_3$Salary, subset_data_4$Salary))\n",
    "\n",
    "# Set up the graphics device to display multiple plots side by side\n",
    "par(mfrow = c(1, 4))\n",
    "\n",
    "# Create side-by-side boxplots for salary by gender\n",
    "boxplot(subset_data_1$Salary, main = \"Salary for High School\", ylim = salary_range)\n",
    "boxplot(subset_data_2$Salary, main = \"Salary for Bachelor's\", ylim = salary_range)\n",
    "boxplot(subset_data_3$Salary, main = \"Salary for Master's\", ylim = salary_range)\n",
    "boxplot(subset_data_4$Salary, main = \"Salary for PhD\", ylim = salary_range)"
   ]
  },
  {
   "cell_type": "code",
   "execution_count": 53,
   "metadata": {},
   "outputs": [],
   "source": [
    "dataset$Education <- ifelse(dataset$Education.LevelHighSchool_combined == 1, \"HS\",\n",
    "                            ifelse(dataset$Education.LevelBachelors_combined == 1, \"Bachelors\",\n",
    "                                   ifelse(dataset$Education.LevelMasters_combined == 1, \"Masters\",\n",
    "                                          ifelse(dataset$Education.LevelPhD_combined == 1, \"PhD\", NA))))\n",
    "\n",
    "dataset$Education <- factor(dataset$Education, levels = c(\"HS\", \"Bachelors\", \"Masters\", \"PhD\"))\n",
    "\n",
    "dataset$Gender <- ifelse(dataset$Gender_binary==1, \"Female\", \"Male\")"
   ]
  },
  {
   "cell_type": "code",
   "execution_count": 61,
   "metadata": {},
   "outputs": [
    {
     "ename": "ERROR",
     "evalue": "Error in eval(ei, envir): cannot change value of locked binding for 'mosaic'\n",
     "output_type": "error",
     "traceback": [
      "Error in eval(ei, envir): cannot change value of locked binding for 'mosaic'\nTraceback:\n",
      "1. source(\"http://www-stat.wharton.upenn.edu/~buja/STAT-961/mosaic.R\")",
      "2. withVisible(eval(ei, envir))",
      "3. eval(ei, envir)",
      "4. eval(ei, envir)"
     ]
    }
   ],
   "source": [
    "# install.packages(\"vcd\")\n",
    "library(vcd)\n",
    "library(gmodels)\n",
    "\n",
    "\n",
    "#' Load the source code for the *mosaic.plot()* function.\n",
    "source(\"http://www-stat.wharton.upenn.edu/~buja/STAT-961/mosaic.R\")"
   ]
  },
  {
   "cell_type": "code",
   "execution_count": 62,
   "metadata": {},
   "outputs": [
    {
     "name": "stdout",
     "output_type": "stream",
     "text": [
      "Call to mosaic.plot:\n",
      "  dims entered = 1 2 \n",
      "  actual dims  =   \n",
      "----------------------------------------------------------------\n",
      "           Female Male  Sum\n",
      "                           \n",
      "PhD           496  872 1368\n",
      "Masters      1068  793 1861\n",
      "Bachelors    1196 1823 3019\n",
      "HS            251  197  448\n",
      "Sum          3011 3685 6696\n",
      "----------------------------------------------------------------\n",
      "           Female  Male   Sum\n",
      "                             \n",
      "PhD         0.074 0.130 0.204\n",
      "Masters     0.159 0.118 0.278\n",
      "Bachelors   0.179 0.272 0.451\n",
      "HS          0.037 0.029 0.067\n",
      "Sum         0.450 0.550 1.000\n",
      "----------------------------------------------------------------\n",
      "           Female  Male\n",
      "                       \n",
      "PhD         0.165 0.237\n",
      "Masters     0.355 0.215\n",
      "Bachelors   0.397 0.495\n",
      "HS          0.083 0.053\n",
      "Sum         1.000 1.000\n",
      "----------------------------------------------------------------\n"
     ]
    },
    {
     "data": {
      "image/png": "[encoded data removed]",
      "text/plain": [
       "Plot with title \"Plot of Education Level Against Gender\""
      ]
     },
     "metadata": {
      "image/png": {
       "height": 420,
       "width": 420
      }
     },
     "output_type": "display_data"
    }
   ],
   "source": [
    "mosaic.plot(table(dataset$Gender, dataset$Education),\n",
    "            main = \"Plot of Education Level Against Gender\")"
   ]
  },
  {
   "cell_type": "code",
   "execution_count": null,
   "metadata": {},
   "outputs": [],
   "source": [
    "################################################################################\n",
    "# Simple LR\n",
    "################################################################################\n",
    "linear_model <- lm(Salary ~ Gender_binary + Age + `Education.LevelHigh School` + `Education.LevelBachelors_combined` + `Education.LevelMasters_combined` + `Education.LevelPhD_combined`, data = dataset)\n",
    "summary(linear_model)\n",
    "\n",
    "# pretend we plotted the linearity, residuals, homoskedasticity, normality blah blah \n",
    "residuals <- resid(linear_model)\n",
    "plot(dataset$Salary, residuals, \n",
    "     xlab = \"Salary\",\n",
    "     ylab = \"Residuals\",\n",
    "     main = \"Residual Plot for linear_model\")\n",
    "abline(h = 0)\n",
    "\n",
    "################################################################################\n",
    "# Creating Confidence Intervals for Betas_gender for different Education Levels\n",
    "################################################################################\n",
    "linear_model_2 <- lm(Salary ~ Gender_binary + Age + `Education.LevelHigh School` + `Education.LevelBachelors_combined` + `Education.LevelMasters_combined` + `Education.LevelPhD_combined` + Gender_binary * `Education.LevelHigh School` + Gender_binary * `Education.LevelBachelors_combined` + Gender_binary * `Education.LevelMasters_combined` + Gender_binary * `Education.LevelPhD_combined`, data = dataset)\n",
    "\n",
    "summary(linear_model_2)\n",
    "conf_intervals <- confint(linear_model_2, \"Gender_binary:`Education.LevelHigh School`\")\n",
    "print(conf_intervals)\n",
    "\n",
    "conf_intervals <- confint(linear_model_2, \"Gender_binary:Education.LevelBachelors_combined\")\n",
    "print(conf_intervals)\n",
    "\n",
    "conf_intervals <- confint(linear_model_2, \"Gender_binary:Education.LevelMasters_combined\")\n",
    "print(conf_intervals)"
   ]
  },
  {
   "cell_type": "code",
   "execution_count": 76,
   "metadata": {},
   "outputs": [
    {
     "data": {
      "text/plain": [
       "\n",
       "Call:\n",
       "lm(formula = Salary ~ Gender_binary + Age, data = dataset)\n",
       "\n",
       "Residuals:\n",
       "    Min      1Q  Median      3Q     Max \n",
       "-108532  -24851   -4795   20687  100225 \n",
       "\n",
       "Coefficients:\n",
       "               Estimate Std. Error t value             Pr(>|t|)    \n",
       "(Intercept)   -50978.11    2094.60 -24.338 < 0.0000000000000002 ***\n",
       "Gender_binary  -4434.24     892.61  -4.968          0.000000694 ***\n",
       "Age             5006.92      58.32  85.859 < 0.0000000000000002 ***\n",
       "---\n",
       "Signif. codes:  0 '***' 0.001 '**' 0.01 '*' 0.05 '.' 0.1 ' ' 1\n",
       "\n",
       "Residual standard error: 36080 on 6693 degrees of freedom\n",
       "Multiple R-squared:  0.5319,\tAdjusted R-squared:  0.5317 \n",
       "F-statistic:  3802 on 2 and 6693 DF,  p-value: < 0.00000000000000022\n"
      ]
     },
     "metadata": {},
     "output_type": "display_data"
    }
   ],
   "source": [
    "summary(lm(Salary ~ Gender_binary + Age , dataset))"
   ]
  },
  {
   "cell_type": "code",
   "execution_count": null,
   "metadata": {},
   "outputs": [],
   "source": []
  }
 ],
 "metadata": {
  "kernelspec": {
   "display_name": "R",
   "language": "R",
   "name": "ir"
  },
  "language_info": {
   "codemirror_mode": "r",
   "file_extension": ".r",
   "mimetype": "text/x-r-source",
   "name": "R",
   "pygments_lexer": "r",
   "version": "4.2.3"
  }
 },
 "nbformat": 4,
 "nbformat_minor": 4
}
